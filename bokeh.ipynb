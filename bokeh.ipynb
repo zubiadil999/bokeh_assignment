{
  "nbformat": 4,
  "nbformat_minor": 0,
  "metadata": {
    "colab": {
      "provenance": []
    },
    "kernelspec": {
      "name": "python3",
      "display_name": "Python 3"
    },
    "language_info": {
      "name": "python"
    }
  },
  "cells": [
    {
      "cell_type": "code",
      "execution_count": 7,
      "metadata": {
        "id": "rlkWSwd1Lc3c"
      },
      "outputs": [],
      "source": [
        "# import bokeh\n",
        "from bokeh.plotting import figure, output_file, show\n",
        "\n",
        "# create data\n",
        "x = [1, 2, 3, 4, 5]\n",
        "y = [6, 7, 2, 4, 5]\n",
        "\n",
        "# output to static HTML file\n",
        "output_file(\"bokeh_plot.html\")\n",
        "\n",
        "# create a new plot with a title and axis labels\n",
        "p = figure(title=\"Simple Bokeh plot\", x_axis_label='x', y_axis_label='y')\n",
        "\n",
        "# add a line renderer with legend and line thickness\n",
        "p.line(x, y, legend_label=\"Line\", line_width=2)\n",
        "\n",
        "# show the plot\n",
        "show(p)"
      ]
    },
    {
      "cell_type": "code",
      "source": [
        "# import bokeh\n",
        "from bokeh.plotting import figure, output_file, show\n",
        "\n",
        "# create data\n",
        "x = [1, 2, 3, 4, 5]\n",
        "y = [6, 7, 2, 4, 5]\n",
        "\n",
        "# output to static HTML file\n",
        "output_file(\"bokeh_glyphs.html\")\n",
        "\n",
        "# create a new plot with a title and axis labels\n",
        "p = figure(title=\"Bokeh plot with glyphs\", x_axis_label='x', y_axis_label='y')\n",
        "\n",
        "# add a circle glyph\n",
        "p.circle(x, y, size=10, color='blue', alpha=0.5)\n",
        "\n",
        "# add a square glyph\n",
        "p.square(x, y, size=10, color='red', alpha=0.5)\n",
        "\n",
        "# show the plot\n",
        "show(p)\n"
      ],
      "metadata": {
        "id": "JGhgui7_Mwp6"
      },
      "execution_count": 8,
      "outputs": []
    },
    {
      "cell_type": "code",
      "source": [
        "# import bokeh\n",
        "from bokeh.plotting import figure, output_file, show\n",
        "from bokeh.models import Legend\n",
        "\n",
        "# create data\n",
        "x = [1, 2, 3, 4, 5]\n",
        "y1 = [6, 7, 2, 4, 5]\n",
        "y2 = [2, 3, 4, 5, 6]\n",
        "\n",
        "# output to static HTML file\n",
        "output_file(\"bokeh_customization.html\")\n",
        "\n",
        "# create a new plot with a title and axis labels\n",
        "p = figure(title=\"Bokeh plot with customization\", x_axis_label='x', y_axis_label='y')\n",
        "\n",
        "# add a line renderer with legend and line thickness\n",
        "p.line(x, y1, legend_label=\"Line 1\", line_width=2, line_color='blue')\n",
        "\n",
        "# add a circle renderer with legend and fill color\n",
        "p.circle(x, y2, legend_label=\"Line 2\", size=10, fill_color='red', line_color='black')\n",
        "\n",
        "# customize the appearance of the plot\n",
        "p.title.text_color = 'blue'\n",
        "p.title.text_font_size = '20pt'\n",
        "p.xaxis.axis_label_text_font_size = '16pt'\n",
        "p.yaxis.axis_label_text_font_size = '16pt'\n",
        "p.xaxis.major_label_text_font_size = '14pt'\n",
        "p.yaxis.major_label_text_font_size = '14pt'\n",
        "p.xaxis.axis_line_color = 'blue'\n",
        "p.yaxis.axis_line_color = 'blue'\n",
        "\n",
        "# add a legend to the plot\n",
        "legend = Legend(items=[\n",
        "    (\"Line 1\", [p.renderers[0]]),\n",
        "    (\"Line 2\", [p.renderers[1]])\n",
        "])\n",
        "p.add_layout(legend)\n",
        "\n",
        "# show the plot\n",
        "show(p)\n"
      ],
      "metadata": {
        "id": "RmzAhUo2M4iW"
      },
      "execution_count": 9,
      "outputs": []
    },
    {
      "cell_type": "code",
      "source": [
        "##Bokeh server is a Bokeh module that enables the creation of interactive, real-time plots and web applications. With the Bokeh server, a plot is created and served on a web page using a Python script. The server handles communication between the plot and the web page, allowing the plot to be updated in real time based on user interaction or changes in the underlying data.\n",
        "# import bokeh\n",
        "from bokeh.plotting import figure\n",
        "from bokeh.models import ColumnDataSource\n",
        "from bokeh.server.server import Server\n",
        "from bokeh.application import Application\n",
        "from bokeh.application.handlers.function import FunctionHandler\n",
        "\n",
        "import numpy as np\n",
        "\n",
        "# create data\n",
        "x = np.linspace(0, 10, 100)\n",
        "y = np.sin(x)\n",
        "\n",
        "# create a new plot with a title and axis labels\n",
        "p = figure(title=\"Bokeh plot with server\", x_axis_label='x', y_axis_label='y')\n",
        "\n",
        "# add a line renderer\n",
        "source = ColumnDataSource(data=dict(x=x, y=y))\n",
        "line = p.line('x', 'y', source=source)\n",
        "\n",
        "# define a callback function to update the plot\n",
        "def update_data(attrname, old, new):\n",
        "    freq = frequency.value\n",
        "    y = np.sin(freq * x)\n",
        "    source.data = dict(x=x, y=y)\n",
        "\n",
        "# create a function handler for the application\n",
        "def make_document(doc):\n",
        "    # create a slider widget to adjust the frequency\n",
        "    frequency = Slider(title=\"Frequency\", value=1, start=0.1, end=5, step=0.1)\n",
        "    frequency.on_change('value', update_data)\n",
        "\n",
        "    # add the slider and plot to the document\n",
        "    doc.add_root(column(frequency, p))\n",
        "\n",
        "# create an application with the function handler\n",
        "app = Application(FunctionHandler(make_document))\n",
        "\n",
        "# create a server and start it\n",
        "server = Server({'/': app}, port=3001)\n",
        "server.start()\n",
        "\n",
        "# open the plot in a browser window\n",
        "server.show('/')\n",
        "\n",
        "# run the server continuously\n",
        "try:\n",
        "    server.io_loop.start()\n",
        "except Exception as e:\n",
        "    print(f\"Error starting server: {e}\")\n",
        "\n"
      ],
      "metadata": {
        "colab": {
          "base_uri": "https://localhost:8080/"
        },
        "id": "aN0HYcpENO4J",
        "outputId": "b23648c5-2663-4460-f4ec-52519bba29de"
      },
      "execution_count": 15,
      "outputs": [
        {
          "output_type": "stream",
          "name": "stdout",
          "text": [
            "Error starting server: This event loop is already running\n"
          ]
        }
      ]
    },
    {
      "cell_type": "code",
      "source": [
        "from flask import Flask, render_template\n",
        "\n",
        "app = Flask(__name__)\n",
        "\n",
        "@app.route('/')\n",
        "def index():\n",
        "    # create the Bokeh plot and generate the HTML/JS code\n",
        "    p = figure(plot_width=400, plot_height=400)\n",
        "    p.circle([1, 2, 3, 4, 5], [2, 5, 8, 3, 6])\n",
        "    script, div = components(p)\n",
        "\n",
        "    # pass the HTML/JS code to the template context\n",
        "    return render_template('index.html', script=script, div=div)\n",
        "  \n",
        "\n"
      ],
      "metadata": {
        "id": "IMBjfPQpPGMH"
      },
      "execution_count": 17,
      "outputs": []
    },
    {
      "cell_type": "code",
      "source": [],
      "metadata": {
        "id": "vCME3VqBMcF_"
      },
      "execution_count": 8,
      "outputs": []
    }
  ]
}